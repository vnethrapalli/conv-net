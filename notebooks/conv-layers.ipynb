{
 "cells": [
  {
   "cell_type": "code",
   "execution_count": 1,
   "metadata": {},
   "outputs": [],
   "source": [
    "import numpy as np"
   ]
  },
  {
   "cell_type": "markdown",
   "metadata": {},
   "source": [
    "## convolution and pooling operations"
   ]
  },
  {
   "cell_type": "code",
   "execution_count": 2,
   "metadata": {},
   "outputs": [],
   "source": [
    "'''\n",
    "- expected input volume to be an array of 3d images\n",
    "- filters is a list of 3d array filters\n",
    "- biases is a list of bias terms, one for each filter\n",
    "'''\n",
    "def convolution(input_volume, filters, biases, stride=1, zero_padding=0):\n",
    "    \n",
    "    # assume square images\n",
    "    num_images, num_channels, _, img_dim_orig = input_volume.shape\n",
    "    num_filters, _, __, filter_dim = filters.shape\n",
    "    \n",
    "    \n",
    "    # zero padding adds zeroes around the input, but not along the depth dimension of each image\n",
    "    image = input_volume\n",
    "    if zero_padding != 0:\n",
    "        image = np.zeros(shape=(num_images, num_channels, img_dim_orig + 2 * zero_padding, img_dim_orig + 2 * zero_padding))\n",
    "        image[:, :, zero_padding:-zero_padding, zero_padding:-zero_padding] = input_volume\n",
    "    \n",
    "    img_dim = img_dim_orig + 2 * zero_padding\n",
    "    \n",
    "    \n",
    "    # im2col 3d from:\n",
    "    # https://stackoverflow.com/questions/50292750/python-the-implementation-of-im2col-which-takes-the-advantages-of-6-dimensional\n",
    "    img_stride, channel_stride, row_stride, col_stride = image.strides\n",
    "    out_dim = (img_dim - filter_dim) // stride + 1\n",
    "    col = np.lib.stride_tricks.as_strided(image, shape=(num_images, out_dim, out_dim, num_channels, filter_dim, filter_dim), strides=(img_stride, stride * row_stride, stride * col_stride, channel_stride, row_stride, col_stride)).astype(float)\n",
    "    col = col.reshape(np.multiply.reduceat(col.shape, (0, 3)))\n",
    "    \n",
    "    # each 2d slice of col has rows containing each extended receptive field\n",
    "    # similarly, the filters will be flattened into a 2d array (col: each filter stretched out)\n",
    "    filt_stride, filt_depth_stride, filt_row_stride, filt_col_stride = filters.strides\n",
    "    filt_col = np.lib.stride_tricks.as_strided(filters, shape=(num_channels * filter_dim ** 2, num_filters), strides=(filt_col_stride, filt_stride))\n",
    "    \n",
    "    # perform matrix multiplication\n",
    "    # each col is a different filter; every out_dim^2 rows corresponds to one image's convolved activations\n",
    "    conv = np.dot(col, filt_col)\n",
    "    conv_row_stride, conv_col_stride = conv.strides\n",
    "    \n",
    "    # add bias term (each filter should have one)\n",
    "    conv += biases\n",
    "    \n",
    "    # reshape into list of activation volumes (1 volume per image)\n",
    "    conv = np.lib.stride_tricks.as_strided(conv, shape=(num_images, num_filters, out_dim, out_dim), strides=(out_dim ** 2 * conv_row_stride, conv_col_stride, out_dim * conv_row_stride, conv_row_stride))\n",
    "\n",
    "    return conv\n"
   ]
  },
  {
   "cell_type": "code",
   "execution_count": 3,
   "metadata": {},
   "outputs": [],
   "source": [
    "'''\n",
    "- expected input volume to be an array of 3d images\n",
    "- (square) sliding window dimensions\n",
    "- modes: max pooling, min pooling, mean pooling\n",
    "- stride: for sliding viewing window\n",
    "- zero_padding: zero padding\n",
    "'''\n",
    "def pool(input_volumes, filter_dim, mode='max', stride=1, zero_padding=0): \n",
    "    # assume square images\n",
    "    num_images, num_channels, _, img_dim_orig = input_volumes.shape   \n",
    "    \n",
    "    # zero padding adds zeroes around the input, but not along the depth dimension of each image\n",
    "    image = input_volumes\n",
    "    if zero_padding != 0:\n",
    "        image = np.zeros(shape=(num_images, num_channels, img_dim_orig + 2 * zero_padding, img_dim_orig + 2 * zero_padding))\n",
    "        image[:, :, zero_padding:-zero_padding, zero_padding:-zero_padding] = input_volume\n",
    "    \n",
    "    img_dim = img_dim_orig + 2 * zero_padding\n",
    "    \n",
    "    # im2col 3d from:\n",
    "    # https://stackoverflow.com/questions/50292750/python-the-implementation-of-im2col-which-takes-the-advantages-of-6-dimensional\n",
    "    img_stride, channel_stride, row_stride, col_stride = image.strides\n",
    "    out_dim = (img_dim - filter_dim) // stride + 1\n",
    "    col = np.lib.stride_tricks.as_strided(image, shape=(num_images, out_dim, out_dim, num_channels, filter_dim, filter_dim), strides=(img_stride, stride * row_stride, stride * col_stride, channel_stride, row_stride, col_stride)).astype(float)\n",
    "    # col = col.reshape(np.multiply.reduceat(col.shape, (0, 3)))\n",
    "    col = col.reshape((num_images, num_channels * out_dim ** 2, filter_dim ** 2))\n",
    "    \n",
    "    # perform the pooling operations\n",
    "    result = None\n",
    "    if mode == 'max':\n",
    "        result = col.max(axis=2)\n",
    "    elif mode == 'min':\n",
    "        result = col.min(axis=2)\n",
    "    elif mode == 'mean':\n",
    "        result = col.mean(axis=2)\n",
    "        \n",
    "    # reshape result into list of images\n",
    "    row_stride, col_stride = result.strides\n",
    "    result = np.lib.stride_tricks.as_strided(result, shape=(num_images, num_channels, out_dim, out_dim), strides=(row_stride, col_stride, num_channels * out_dim * col_stride, num_channels * col_stride))\n",
    "    return result"
   ]
  },
  {
   "cell_type": "markdown",
   "metadata": {},
   "source": [
    "## forward propagation"
   ]
  },
  {
   "cell_type": "code",
   "execution_count": 4,
   "metadata": {},
   "outputs": [],
   "source": [
    "# layer class to group information about layers\n",
    "class Layer:\n",
    "    '''\n",
    "    layer_type: 'conv' or 'pool'\n",
    "    filters_shape: shape tuple if layer_type is 'conv' (expected 4D); single dimension for square window if layer_type is 'pool'\n",
    "    stride, zero_padding: constants representing the stride and amount of zeroes added to the border of an input\n",
    "    pooling_mode: method used in pooling: 'max', 'min', or 'mean'\n",
    "    '''\n",
    "    def __init__(self, layer_type, filters_shape, stride=1, zero_padding=0, pooling_mode='max'):\n",
    "        self.layer_type = layer_type\n",
    "        \n",
    "        # initialize filter weights\n",
    "        self.filters = None\n",
    "        self.filter_dim = None\n",
    "        \n",
    "        if layer_type == 'conv':\n",
    "            self.filters = np.random.normal(size=filters_shape)\n",
    "            self.biases = np.random.normal(size=self.filters.shape[0])\n",
    "        elif layer_type == 'pool':\n",
    "            self.filter_dim = filters_shape\n",
    "            \n",
    "        self.stride = stride\n",
    "        self.zero_padding = zero_padding\n",
    "        self.pooling_mode = pooling_mode\n",
    "        \n",
    "    def __str__(self):\n",
    "        if self.layer_type == 'conv':\n",
    "            return f'conv(filters_shape=({self.filters.shape}), stride={self.stride}, zero_padding={self.zero_padding})'\n",
    "            \n",
    "        elif self.layer_type == 'pool':\n",
    "            return f'pool(filter_dim={self.filter_dim}, stride={self.stride}, zero_padding={self.zero_padding}, pooling_mode={self.pooling_mode})'"
   ]
  },
  {
   "cell_type": "code",
   "execution_count": 5,
   "metadata": {},
   "outputs": [
    {
     "name": "stdout",
     "output_type": "stream",
     "text": [
      "conv(filters_shape=((4, 1, 3, 3)), stride=1, zero_padding=1)\n",
      "conv(filters_shape=((3, 4, 3, 3)), stride=1, zero_padding=0)\n",
      "pool(filter_dim=2, stride=2, zero_padding=0, pooling_mode=max)\n"
     ]
    }
   ],
   "source": [
    "# makeshift way of specifying structure of the layers\n",
    "# separate layers with a pipe: |\n",
    "# start each layer with the type of layer and a semi colon: ie conv; or pool;\n",
    "# no spaces?\n",
    "# separate parameters with a semicolon: ;\n",
    "# conv params: filter f=shape tuple; stride s=num; zero padding z=num\n",
    "# - note that the depth of the shape will be overridden by the previous layer's depth, since the filter extends through the input volume\n",
    "# pooling params: filter dimension fdim=num; mode m='max' (or mean or min); stride s=num, zero padding z=num\n",
    "\n",
    "structure_str = 'conv;f=4,1,3,3;s=1;z=1|conv;f=3,1,3,3;s=1;z=0|pool;fdim=2;m=max;s=2;z=0'\n",
    "imgs = np.arange(108).reshape((3, 1, 6, 6))\n",
    "prev_layer_depth = imgs.shape[1]\n",
    "\n",
    "layers = np.asarray([])\n",
    "for layer_str in structure_str.split('|'):\n",
    "    param_str = layer_str.split(';')\n",
    "    layer_type = param_str[0]\n",
    "    \n",
    "    # read in expected params for conv\n",
    "    if layer_type == 'conv':\n",
    "        shape = stride = padding = None\n",
    "        \n",
    "        for param in param_str[1:]:\n",
    "            p, value = param.split('=')\n",
    "            if p == 'f':\n",
    "                shape = [int(v) for v in value.split(',')]\n",
    "                # the depth of the filter is equal to the depth of the input volume; the depth of the lext layer will equal number of filters\n",
    "                shape[1] = prev_layer_depth\n",
    "                prev_layer_depth = shape[0] \n",
    "            elif p == 's':\n",
    "                stride = int(value)\n",
    "            elif p == 'z':\n",
    "                padding = int(value)\n",
    "                \n",
    "        layers = np.append(layers, Layer('conv', shape, stride, padding, pooling_mode=None))\n",
    "                \n",
    "    # read in expected params for pool\n",
    "    elif layer_type == 'pool':\n",
    "        window_dim = stride = padding = pooling_method = None\n",
    "        \n",
    "        for param in param_str[1:]:\n",
    "            p, value = param.split('=')\n",
    "            if p == 'fdim':\n",
    "                window_dim = int(value)\n",
    "            elif p == 's':\n",
    "                stride = int(value)\n",
    "            elif p == 'z':\n",
    "                padding = int(value)\n",
    "            elif p == 'm':\n",
    "                pooling_method = value\n",
    "                \n",
    "        layers = np.append(layers, Layer('pool', window_dim, stride, padding, pooling_method))\n",
    "        \n",
    "for l in layers:\n",
    "    print(l)"
   ]
  },
  {
   "cell_type": "code",
   "execution_count": 6,
   "metadata": {},
   "outputs": [
    {
     "name": "stdout",
     "output_type": "stream",
     "text": [
      "(3, 3, 2, 2)\n"
     ]
    },
    {
     "data": {
      "text/plain": [
       "array([[[[ 20.97333621, 118.94082573],\n",
       "         [133.63921631, 182.54240548]],\n",
       "\n",
       "        [[145.67059479, 128.08008664],\n",
       "         [114.21088904,  94.25781463]],\n",
       "\n",
       "        [[  0.        ,   0.        ],\n",
       "         [  0.        ,   0.        ]]],\n",
       "\n",
       "\n",
       "       [[[221.66616401, 484.97551843],\n",
       "         [393.29542472, 545.98130055]],\n",
       "\n",
       "        [[222.50004556, 155.54086702],\n",
       "         [ 28.72348642,  26.85107705]],\n",
       "\n",
       "        [[  0.        ,   0.        ],\n",
       "         [  0.        ,   0.        ]]],\n",
       "\n",
       "\n",
       "       [[[431.38368445, 851.01021113],\n",
       "         [652.95163312, 912.01599325]],\n",
       "\n",
       "        [[304.26338517, 192.07550155],\n",
       "         [  0.        ,   0.        ]],\n",
       "\n",
       "        [[  0.        ,   0.        ],\n",
       "         [  0.        ,   0.        ]]]])"
      ]
     },
     "execution_count": 6,
     "metadata": {},
     "output_type": "execute_result"
    }
   ],
   "source": [
    "def conv_fprop(imgs, layers):\n",
    "    output = imgs.copy()\n",
    "    activation_volumes = [output]\n",
    "    for l in layers:\n",
    "        if l.layer_type =='conv':\n",
    "            output = convolution(output, l.filters, l.biases, l.stride, l.zero_padding)\n",
    "\n",
    "            # i think this goes before the activation function, for use in backprop\n",
    "            activation_volumes.append(output)\n",
    "            # todo activation function\n",
    "            \n",
    "            # ie ReLU\n",
    "            output[output < 0] = 0 \n",
    "            \n",
    "            \n",
    "        elif l.layer_type == 'pool':\n",
    "            output = pool(output, l.filter_dim, mode=l.pooling_mode, stride=l.stride, zero_padding=l.zero_padding)\n",
    "            activation_volumes.append(output)\n",
    "            \n",
    "    return activation_volumes\n",
    "        \n",
    "# note that the first element contains the input images\n",
    "activations = conv_fprop(imgs, layers) \n",
    "print(activations[-1].shape)\n",
    "activations[-1]"
   ]
  },
  {
   "cell_type": "code",
   "execution_count": null,
   "metadata": {},
   "outputs": [],
   "source": [
    "# adjust layer weights and biases\n",
    "def conv_bprop_gradient(layers, incoming_errors, activations):\n",
    "    # https://towardsdatascience.com/backpropagation-in-a-convolutional-layer-24c8d64d8509\n",
    "    \n",
    "    curr_error = incoming_errors\n",
    "    bias_grad = filter_grad = next_errors = None\n",
    "    \n",
    "    # account for activation function\n",
    "    for l in reversed(layers):\n",
    "        # bias gradient for each filter is the sum of the errors for that filter (across all images)\n",
    "        bias_grad = np.sum(curr_error, axis=(0, 2, 3))\n",
    "    "
   ]
  },
  {
   "cell_type": "code",
   "execution_count": 8,
   "metadata": {},
   "outputs": [
    {
     "name": "stdout",
     "output_type": "stream",
     "text": [
      "[[[[ 0  1]\n",
      "   [ 2  3]]\n",
      "\n",
      "  [[ 4  5]\n",
      "   [ 6  7]]\n",
      "\n",
      "  [[ 8  9]\n",
      "   [10 11]]\n",
      "\n",
      "  [[12 13]\n",
      "   [14 15]]]\n",
      "\n",
      "\n",
      " [[[16 17]\n",
      "   [18 19]]\n",
      "\n",
      "  [[20 21]\n",
      "   [22 23]]\n",
      "\n",
      "  [[24 25]\n",
      "   [26 27]]\n",
      "\n",
      "  [[28 29]\n",
      "   [30 31]]]]\n"
     ]
    },
    {
     "data": {
      "text/plain": [
       "array([ 76, 108, 140, 172])"
      ]
     },
     "execution_count": 8,
     "metadata": {},
     "output_type": "execute_result"
    }
   ],
   "source": [
    "a = np.arange(32).reshape((2, 4, 2, 2))\n",
    "print(a)\n",
    "np.sum(a, axis=(0, 2, 3))"
   ]
  },
  {
   "cell_type": "code",
   "execution_count": null,
   "metadata": {},
   "outputs": [],
   "source": []
  },
  {
   "cell_type": "code",
   "execution_count": null,
   "metadata": {},
   "outputs": [],
   "source": []
  }
 ],
 "metadata": {
  "kernelspec": {
   "display_name": "Python 3",
   "language": "python",
   "name": "python3"
  },
  "language_info": {
   "codemirror_mode": {
    "name": "ipython",
    "version": 3
   },
   "file_extension": ".py",
   "mimetype": "text/x-python",
   "name": "python",
   "nbconvert_exporter": "python",
   "pygments_lexer": "ipython3",
   "version": "3.8.3"
  }
 },
 "nbformat": 4,
 "nbformat_minor": 4
}

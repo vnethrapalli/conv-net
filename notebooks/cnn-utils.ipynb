{
 "cells": [
  {
   "cell_type": "code",
   "execution_count": 1,
   "metadata": {},
   "outputs": [],
   "source": [
    "import numpy as np"
   ]
  },
  {
   "cell_type": "code",
   "execution_count": 15,
   "metadata": {},
   "outputs": [],
   "source": [
    "'''\n",
    "- expected input volume to be 3d array\n",
    "- filters is a list of 3d array filters\n",
    "- biases is a list of bias terms, one for each filter\n",
    "'''\n",
    "def convolution(input_volume, filters, biases, stride=1, zero_padding=0):\n",
    "    \n",
    "    # constrain to square images\n",
    "    num_channels, _, img_dim_orig = input_volume.shape\n",
    "    num_filters, _, __, filter_dim = filters.shape\n",
    "    \n",
    "    \n",
    "    # shape\n",
    "    # np.ones(shape=(2, 2, 3, 3))\n",
    "    # num filt, depth, num rows, num cols\n",
    "    \n",
    "    # zero padding adds zeroes around the input, but not along the depth dimension\n",
    "    image = np.zeros(shape=(num_channels, img_dim_orig + 2 * zero_padding, img_dim_orig + 2 * zero_padding))\n",
    "    image[:, zero_padding:-zero_padding, zero_padding:-zero_padding] = input_volume\n",
    "    \n",
    "    return image\n",
    "        "
   ]
  },
  {
   "cell_type": "code",
   "execution_count": null,
   "metadata": {},
   "outputs": [],
   "source": []
  },
  {
   "cell_type": "code",
   "execution_count": null,
   "metadata": {},
   "outputs": [],
   "source": []
  }
 ],
 "metadata": {
  "kernelspec": {
   "display_name": "Python 3",
   "language": "python",
   "name": "python3"
  },
  "language_info": {
   "codemirror_mode": {
    "name": "ipython",
    "version": 3
   },
   "file_extension": ".py",
   "mimetype": "text/x-python",
   "name": "python",
   "nbconvert_exporter": "python",
   "pygments_lexer": "ipython3",
   "version": "3.8.3"
  }
 },
 "nbformat": 4,
 "nbformat_minor": 4
}
